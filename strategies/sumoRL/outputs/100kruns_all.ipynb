{
 "cells": [
  {
   "cell_type": "code",
   "execution_count": 2,
   "metadata": {},
   "outputs": [],
   "source": [
    "import numpy as np\n",
    "import matplotlib.pyplot as plt\n",
    "import pandas as pd"
   ]
  },
  {
   "cell_type": "code",
   "execution_count": 3,
   "metadata": {},
   "outputs": [
    {
     "data": {
      "text/html": [
       "<div>\n",
       "<style scoped>\n",
       "    .dataframe tbody tr th:only-of-type {\n",
       "        vertical-align: middle;\n",
       "    }\n",
       "\n",
       "    .dataframe tbody tr th {\n",
       "        vertical-align: top;\n",
       "    }\n",
       "\n",
       "    .dataframe thead th {\n",
       "        text-align: right;\n",
       "    }\n",
       "</style>\n",
       "<table border=\"1\" class=\"dataframe\">\n",
       "  <thead>\n",
       "    <tr style=\"text-align: right;\">\n",
       "      <th></th>\n",
       "      <th>step_time</th>\n",
       "      <th>reward</th>\n",
       "      <th>total_stopped</th>\n",
       "      <th>total_wait_time</th>\n",
       "    </tr>\n",
       "  </thead>\n",
       "  <tbody>\n",
       "    <tr>\n",
       "      <th>0</th>\n",
       "      <td>5.0</td>\n",
       "      <td>NaN</td>\n",
       "      <td>0</td>\n",
       "      <td>0.0</td>\n",
       "    </tr>\n",
       "    <tr>\n",
       "      <th>1</th>\n",
       "      <td>10.0</td>\n",
       "      <td>0.00</td>\n",
       "      <td>0</td>\n",
       "      <td>0.0</td>\n",
       "    </tr>\n",
       "    <tr>\n",
       "      <th>2</th>\n",
       "      <td>15.0</td>\n",
       "      <td>0.00</td>\n",
       "      <td>5</td>\n",
       "      <td>9.0</td>\n",
       "    </tr>\n",
       "    <tr>\n",
       "      <th>3</th>\n",
       "      <td>20.0</td>\n",
       "      <td>-0.09</td>\n",
       "      <td>8</td>\n",
       "      <td>43.0</td>\n",
       "    </tr>\n",
       "    <tr>\n",
       "      <th>4</th>\n",
       "      <td>25.0</td>\n",
       "      <td>-0.34</td>\n",
       "      <td>10</td>\n",
       "      <td>85.0</td>\n",
       "    </tr>\n",
       "  </tbody>\n",
       "</table>\n",
       "</div>"
      ],
      "text/plain": [
       "   step_time  reward  total_stopped  total_wait_time\n",
       "0        5.0     NaN              0              0.0\n",
       "1       10.0    0.00              0              0.0\n",
       "2       15.0    0.00              5              9.0\n",
       "3       20.0   -0.09              8             43.0\n",
       "4       25.0   -0.34             10             85.0"
      ]
     },
     "execution_count": 3,
     "metadata": {},
     "output_type": "execute_result"
    }
   ],
   "source": [
    "data = pd.read_csv('2way.csv_run1.csv')\n",
    "data.head()"
   ]
  },
  {
   "cell_type": "code",
   "execution_count": 4,
   "metadata": {},
   "outputs": [
    {
     "data": {
      "text/plain": [
       "0             5.0\n",
       "1            10.0\n",
       "2            15.0\n",
       "3            20.0\n",
       "4            25.0\n",
       "           ...   \n",
       "19995     99980.0\n",
       "19996     99985.0\n",
       "19997     99990.0\n",
       "19998     99995.0\n",
       "19999    100000.0\n",
       "Name: step_time, Length: 20000, dtype: float64"
      ]
     },
     "execution_count": 4,
     "metadata": {},
     "output_type": "execute_result"
    }
   ],
   "source": [
    "x = data.step_time\n",
    "x"
   ]
  },
  {
   "cell_type": "code",
   "execution_count": 5,
   "metadata": {},
   "outputs": [
    {
     "data": {
      "text/plain": [
       "0           0.0\n",
       "1           0.0\n",
       "2           9.0\n",
       "3          43.0\n",
       "4          85.0\n",
       "          ...  \n",
       "19995    7485.0\n",
       "19996    7830.0\n",
       "19997    7607.0\n",
       "19998    7428.0\n",
       "19999    7578.0\n",
       "Name: total_wait_time, Length: 20000, dtype: float64"
      ]
     },
     "execution_count": 5,
     "metadata": {},
     "output_type": "execute_result"
    }
   ],
   "source": [
    "y = data.total_wait_time\n",
    "y"
   ]
  },
  {
   "cell_type": "code",
   "execution_count": 30,
   "metadata": {},
   "outputs": [
    {
     "data": {
      "text/plain": [
       "Text(0, 0.5, 'Total Waiting time')"
      ]
     },
     "execution_count": 30,
     "metadata": {},
     "output_type": "execute_result"
    },
    {
     "data": {
      "image/png": "[encoded data removed]",
      "text/plain": [
       "<Figure size 432x288 with 1 Axes>"
      ]
     },
     "metadata": {
      "needs_background": "light"
     },
     "output_type": "display_data"
    }
   ],
   "source": [
    "plt.plot(x,y)\n",
    "plt.xlabel('Time step')\n",
    "plt.ylabel('Total Waiting time')"
   ]
  },
  {
   "cell_type": "code",
   "execution_count": 29,
   "metadata": {},
   "outputs": [
    {
     "name": "stdout",
     "output_type": "stream",
     "text": [
      "5845.0\n",
      "5850.0\n",
      "5855.0\n",
      "5860.0\n",
      "5865.0\n",
      "5870.0\n",
      "5875.0\n",
      "5880.0\n",
      "5885.0\n",
      "5890.0\n",
      "10045.0\n",
      "10050.0\n",
      "10055.0\n",
      "10060.0\n",
      "10065.0\n",
      "10075.0\n",
      "10080.0\n",
      "10085.0\n",
      "10090.0\n",
      "10095.0\n",
      "10100.0\n",
      "10105.0\n",
      "10110.0\n",
      "10115.0\n",
      "10120.0\n",
      "10125.0\n",
      "10130.0\n",
      "10135.0\n",
      "10140.0\n",
      "10145.0\n",
      "10150.0\n",
      "10155.0\n",
      "10160.0\n",
      "10165.0\n",
      "10170.0\n",
      "10175.0\n",
      "10180.0\n",
      "10185.0\n",
      "10190.0\n",
      "10195.0\n",
      "10200.0\n",
      "10205.0\n",
      "10210.0\n",
      "10215.0\n",
      "10220.0\n",
      "10225.0\n",
      "10230.0\n",
      "10235.0\n",
      "10240.0\n",
      "10245.0\n",
      "10250.0\n",
      "10255.0\n",
      "10260.0\n",
      "10265.0\n",
      "10270.0\n",
      "10275.0\n",
      "10280.0\n",
      "10285.0\n",
      "10290.0\n",
      "10295.0\n",
      "10300.0\n",
      "10305.0\n",
      "10310.0\n",
      "10315.0\n",
      "10320.0\n",
      "10325.0\n",
      "10330.0\n",
      "10335.0\n",
      "10340.0\n",
      "10345.0\n",
      "10350.0\n",
      "10355.0\n",
      "10360.0\n",
      "10365.0\n",
      "10370.0\n",
      "10375.0\n",
      "10380.0\n",
      "10385.0\n",
      "10390.0\n",
      "10395.0\n",
      "10400.0\n",
      "10405.0\n",
      "10410.0\n",
      "10415.0\n",
      "10420.0\n",
      "10425.0\n",
      "10430.0\n",
      "10435.0\n",
      "10440.0\n",
      "10445.0\n",
      "10450.0\n",
      "10455.0\n",
      "10460.0\n",
      "10465.0\n",
      "10470.0\n",
      "10475.0\n",
      "10480.0\n",
      "10485.0\n",
      "10490.0\n",
      "10495.0\n",
      "10500.0\n",
      "10505.0\n",
      "10510.0\n",
      "10515.0\n",
      "10520.0\n",
      "10525.0\n",
      "10530.0\n",
      "10535.0\n",
      "10540.0\n",
      "10545.0\n",
      "10550.0\n",
      "10555.0\n",
      "10560.0\n",
      "10565.0\n",
      "10570.0\n",
      "10575.0\n",
      "10580.0\n",
      "10585.0\n",
      "10590.0\n",
      "10595.0\n",
      "10600.0\n",
      "10605.0\n",
      "10610.0\n",
      "10615.0\n",
      "10620.0\n",
      "10625.0\n",
      "10630.0\n",
      "10635.0\n",
      "10640.0\n",
      "10645.0\n",
      "10650.0\n",
      "10655.0\n",
      "10660.0\n",
      "10665.0\n",
      "10670.0\n",
      "10675.0\n",
      "10680.0\n",
      "10685.0\n",
      "10690.0\n",
      "10695.0\n",
      "10700.0\n",
      "10705.0\n",
      "10710.0\n",
      "10715.0\n",
      "10720.0\n",
      "10725.0\n",
      "10730.0\n",
      "10735.0\n",
      "10740.0\n",
      "10745.0\n",
      "10750.0\n",
      "10755.0\n",
      "10760.0\n",
      "10765.0\n",
      "10770.0\n",
      "10775.0\n",
      "10780.0\n",
      "10785.0\n",
      "10790.0\n",
      "10795.0\n",
      "10800.0\n",
      "10805.0\n",
      "10810.0\n",
      "10815.0\n",
      "10820.0\n",
      "10825.0\n",
      "10830.0\n",
      "10835.0\n",
      "10840.0\n",
      "10845.0\n",
      "10850.0\n",
      "10855.0\n",
      "10860.0\n",
      "10865.0\n",
      "10870.0\n",
      "10875.0\n",
      "10880.0\n",
      "10885.0\n",
      "10890.0\n",
      "10895.0\n",
      "10900.0\n",
      "10905.0\n",
      "10910.0\n",
      "10915.0\n",
      "10920.0\n",
      "10925.0\n",
      "10930.0\n",
      "10935.0\n",
      "10940.0\n",
      "10945.0\n",
      "10950.0\n",
      "10955.0\n",
      "10960.0\n",
      "10965.0\n",
      "10970.0\n",
      "10975.0\n",
      "10980.0\n",
      "10985.0\n",
      "10990.0\n",
      "10995.0\n",
      "11000.0\n",
      "11005.0\n",
      "11010.0\n",
      "11015.0\n",
      "11020.0\n",
      "11025.0\n",
      "11030.0\n",
      "11035.0\n",
      "11040.0\n",
      "11045.0\n",
      "11050.0\n",
      "11055.0\n",
      "11060.0\n",
      "11065.0\n",
      "11070.0\n",
      "11075.0\n",
      "11080.0\n",
      "11085.0\n",
      "11090.0\n",
      "11095.0\n",
      "11100.0\n",
      "11105.0\n",
      "11110.0\n",
      "11115.0\n",
      "11120.0\n",
      "11125.0\n",
      "11130.0\n",
      "11135.0\n",
      "11140.0\n",
      "11145.0\n",
      "11150.0\n",
      "11155.0\n",
      "11160.0\n",
      "11165.0\n",
      "11170.0\n",
      "11175.0\n",
      "11180.0\n",
      "11185.0\n",
      "11190.0\n",
      "11195.0\n",
      "11200.0\n",
      "11205.0\n",
      "11210.0\n",
      "11215.0\n",
      "11220.0\n",
      "11225.0\n",
      "11230.0\n",
      "11235.0\n",
      "11240.0\n",
      "11245.0\n",
      "11250.0\n",
      "11255.0\n",
      "11260.0\n",
      "11265.0\n",
      "11270.0\n",
      "11275.0\n",
      "11280.0\n",
      "11285.0\n",
      "11290.0\n",
      "11295.0\n",
      "11300.0\n",
      "11305.0\n",
      "11310.0\n",
      "11315.0\n",
      "11320.0\n",
      "11325.0\n",
      "11330.0\n",
      "11335.0\n",
      "11340.0\n",
      "11345.0\n",
      "11350.0\n",
      "11355.0\n",
      "11360.0\n",
      "11365.0\n",
      "11370.0\n",
      "11375.0\n",
      "11380.0\n",
      "11385.0\n",
      "11390.0\n",
      "11395.0\n",
      "11400.0\n",
      "11405.0\n",
      "11410.0\n",
      "11415.0\n",
      "11420.0\n",
      "11425.0\n",
      "11430.0\n",
      "11435.0\n",
      "11440.0\n",
      "11445.0\n",
      "11450.0\n",
      "11455.0\n",
      "11460.0\n",
      "11465.0\n",
      "11470.0\n",
      "11475.0\n",
      "11480.0\n",
      "11485.0\n",
      "11490.0\n",
      "11495.0\n",
      "11500.0\n",
      "11505.0\n",
      "11510.0\n",
      "11515.0\n",
      "11520.0\n",
      "11525.0\n",
      "11530.0\n",
      "11535.0\n",
      "11540.0\n",
      "11545.0\n",
      "11550.0\n",
      "11555.0\n",
      "11560.0\n",
      "11565.0\n",
      "11570.0\n",
      "11575.0\n",
      "11580.0\n",
      "11585.0\n",
      "11590.0\n",
      "11595.0\n",
      "11600.0\n",
      "11605.0\n",
      "11610.0\n",
      "11615.0\n",
      "11620.0\n",
      "11625.0\n",
      "11630.0\n",
      "11635.0\n",
      "11640.0\n",
      "11645.0\n",
      "11650.0\n",
      "11655.0\n",
      "11660.0\n",
      "11665.0\n",
      "11670.0\n",
      "11675.0\n",
      "11680.0\n",
      "11685.0\n",
      "11690.0\n",
      "11695.0\n",
      "11700.0\n",
      "11705.0\n",
      "11710.0\n",
      "11715.0\n",
      "11720.0\n",
      "11725.0\n",
      "11730.0\n",
      "11735.0\n",
      "11740.0\n",
      "11745.0\n",
      "11750.0\n",
      "11755.0\n",
      "11760.0\n",
      "11765.0\n",
      "11770.0\n",
      "11775.0\n",
      "11780.0\n",
      "11785.0\n",
      "11790.0\n",
      "11795.0\n",
      "11800.0\n",
      "11805.0\n",
      "11810.0\n",
      "11815.0\n",
      "11820.0\n",
      "11825.0\n",
      "11830.0\n",
      "11835.0\n",
      "11840.0\n",
      "11845.0\n",
      "11850.0\n",
      "11855.0\n",
      "11860.0\n",
      "11865.0\n",
      "11870.0\n",
      "11875.0\n",
      "11880.0\n",
      "11885.0\n",
      "11890.0\n",
      "11895.0\n",
      "11900.0\n",
      "11905.0\n",
      "11910.0\n",
      "11915.0\n",
      "11920.0\n",
      "11925.0\n",
      "11930.0\n",
      "11935.0\n",
      "11940.0\n",
      "12235.0\n",
      "12240.0\n",
      "12245.0\n",
      "12250.0\n",
      "12255.0\n",
      "12260.0\n",
      "12265.0\n",
      "12270.0\n",
      "12275.0\n",
      "12280.0\n",
      "12285.0\n",
      "12290.0\n",
      "12295.0\n",
      "12300.0\n",
      "12305.0\n",
      "12310.0\n",
      "12315.0\n",
      "12320.0\n",
      "12325.0\n",
      "12330.0\n",
      "12335.0\n",
      "12340.0\n",
      "12345.0\n",
      "12350.0\n",
      "12355.0\n",
      "12360.0\n",
      "12365.0\n",
      "12370.0\n",
      "12375.0\n",
      "12380.0\n",
      "12385.0\n",
      "12390.0\n",
      "12395.0\n",
      "12400.0\n",
      "12405.0\n",
      "12410.0\n",
      "12415.0\n",
      "12420.0\n",
      "12425.0\n",
      "12430.0\n",
      "12435.0\n",
      "12440.0\n",
      "12445.0\n",
      "12450.0\n",
      "12455.0\n",
      "12460.0\n",
      "12465.0\n",
      "12470.0\n",
      "12475.0\n",
      "12480.0\n",
      "12485.0\n",
      "12490.0\n",
      "12495.0\n",
      "12500.0\n",
      "12505.0\n",
      "12510.0\n",
      "12515.0\n",
      "12520.0\n",
      "12525.0\n",
      "12530.0\n",
      "12535.0\n",
      "12540.0\n",
      "12545.0\n",
      "12550.0\n",
      "12555.0\n",
      "12560.0\n",
      "12565.0\n",
      "12570.0\n",
      "12575.0\n",
      "12580.0\n",
      "12585.0\n",
      "12590.0\n",
      "12595.0\n",
      "12600.0\n",
      "12605.0\n",
      "12610.0\n",
      "12615.0\n",
      "12620.0\n",
      "12625.0\n",
      "12630.0\n",
      "12635.0\n",
      "12640.0\n",
      "12645.0\n",
      "12650.0\n",
      "12655.0\n",
      "12660.0\n",
      "12665.0\n",
      "12670.0\n",
      "12675.0\n",
      "12680.0\n",
      "12685.0\n",
      "12690.0\n",
      "12695.0\n",
      "12700.0\n",
      "12705.0\n",
      "12710.0\n",
      "12715.0\n",
      "12720.0\n",
      "12725.0\n",
      "12730.0\n",
      "12735.0\n",
      "12740.0\n",
      "12745.0\n",
      "12750.0\n",
      "12755.0\n",
      "12760.0\n",
      "12765.0\n",
      "12770.0\n",
      "12775.0\n",
      "12780.0\n",
      "12785.0\n",
      "12790.0\n",
      "12795.0\n",
      "12800.0\n",
      "12805.0\n",
      "12810.0\n",
      "12815.0\n",
      "12820.0\n",
      "12825.0\n",
      "12830.0\n",
      "12835.0\n",
      "12840.0\n",
      "12845.0\n",
      "12850.0\n",
      "12855.0\n",
      "12860.0\n",
      "12865.0\n",
      "12870.0\n",
      "12875.0\n",
      "12880.0\n",
      "12885.0\n",
      "12890.0\n",
      "12895.0\n",
      "12900.0\n",
      "12905.0\n",
      "12910.0\n",
      "12915.0\n",
      "12920.0\n",
      "12925.0\n",
      "12930.0\n",
      "12935.0\n",
      "23865.0\n",
      "23870.0\n",
      "23875.0\n",
      "23880.0\n",
      "23885.0\n",
      "23890.0\n",
      "23895.0\n",
      "23900.0\n",
      "23905.0\n",
      "23910.0\n",
      "23915.0\n",
      "56130.0\n",
      "56135.0\n",
      "56140.0\n",
      "56145.0\n",
      "56150.0\n",
      "56155.0\n",
      "56160.0\n",
      "56165.0\n",
      "56170.0\n",
      "56175.0\n",
      "56180.0\n",
      "56185.0\n",
      "56190.0\n",
      "56195.0\n",
      "56200.0\n",
      "56205.0\n",
      "56210.0\n",
      "56215.0\n",
      "56220.0\n",
      "56225.0\n",
      "56230.0\n",
      "56235.0\n",
      "56240.0\n",
      "56245.0\n",
      "56250.0\n",
      "56255.0\n",
      "56260.0\n",
      "56265.0\n",
      "56270.0\n",
      "56275.0\n",
      "56280.0\n",
      "56285.0\n",
      "66380.0\n",
      "66385.0\n",
      "66390.0\n",
      "66395.0\n",
      "66400.0\n",
      "66405.0\n",
      "66410.0\n",
      "66415.0\n",
      "66420.0\n",
      "66425.0\n",
      "66430.0\n",
      "66435.0\n",
      "66440.0\n",
      "66445.0\n",
      "66450.0\n",
      "66455.0\n",
      "66460.0\n",
      "66465.0\n",
      "66470.0\n",
      "66475.0\n",
      "66480.0\n",
      "66485.0\n",
      "66490.0\n",
      "66495.0\n",
      "66500.0\n",
      "66505.0\n",
      "66510.0\n",
      "66515.0\n",
      "66520.0\n",
      "66525.0\n",
      "66530.0\n",
      "66535.0\n",
      "66540.0\n",
      "66545.0\n",
      "66550.0\n",
      "66555.0\n",
      "66560.0\n",
      "66565.0\n",
      "66570.0\n",
      "66575.0\n",
      "66580.0\n",
      "66585.0\n",
      "66590.0\n",
      "66595.0\n",
      "66600.0\n",
      "66605.0\n",
      "66610.0\n",
      "66615.0\n",
      "66620.0\n",
      "66625.0\n",
      "66630.0\n",
      "66635.0\n",
      "66640.0\n",
      "66645.0\n",
      "66650.0\n",
      "66655.0\n",
      "66660.0\n",
      "66665.0\n",
      "66670.0\n",
      "66675.0\n",
      "66680.0\n",
      "66685.0\n",
      "66690.0\n",
      "66695.0\n",
      "66700.0\n",
      "66705.0\n",
      "66710.0\n",
      "66715.0\n",
      "66720.0\n",
      "66725.0\n",
      "66730.0\n",
      "66735.0\n",
      "66740.0\n",
      "66745.0\n",
      "66750.0\n",
      "66755.0\n",
      "66760.0\n",
      "66765.0\n",
      "66770.0\n",
      "66775.0\n",
      "66780.0\n",
      "66785.0\n",
      "66790.0\n",
      "66795.0\n",
      "66800.0\n",
      "66805.0\n",
      "66810.0\n",
      "66815.0\n",
      "66820.0\n",
      "66825.0\n",
      "66830.0\n",
      "66835.0\n",
      "66840.0\n",
      "66845.0\n",
      "66850.0\n",
      "66855.0\n",
      "66860.0\n",
      "66865.0\n",
      "66870.0\n",
      "66875.0\n",
      "66880.0\n",
      "66885.0\n",
      "66890.0\n",
      "66895.0\n",
      "66900.0\n",
      "66905.0\n",
      "66910.0\n",
      "66915.0\n",
      "66920.0\n",
      "66925.0\n",
      "66930.0\n",
      "66935.0\n",
      "66940.0\n",
      "66945.0\n",
      "66950.0\n",
      "66955.0\n",
      "66960.0\n",
      "66965.0\n",
      "66970.0\n",
      "66975.0\n",
      "66980.0\n",
      "66985.0\n",
      "66990.0\n",
      "66995.0\n",
      "67000.0\n",
      "67005.0\n",
      "67010.0\n",
      "67015.0\n",
      "67020.0\n",
      "67025.0\n",
      "67030.0\n",
      "67235.0\n",
      "67240.0\n",
      "67245.0\n",
      "67250.0\n",
      "67255.0\n",
      "67260.0\n",
      "67265.0\n",
      "67270.0\n",
      "67275.0\n",
      "67280.0\n",
      "67285.0\n",
      "67290.0\n",
      "67295.0\n",
      "67300.0\n",
      "67305.0\n",
      "67310.0\n",
      "67315.0\n",
      "67320.0\n",
      "67325.0\n"
     ]
    }
   ],
   "source": [
    "for index,row in data.iterrows():\n",
    "    if row['total_wait_time'] > 80000:\n",
    "        print(row['step_time'])"
   ]
  },
  {
   "cell_type": "code",
   "execution_count": 32,
   "metadata": {},
   "outputs": [],
   "source": [
    "run1 = pd.read_csv('simpleMap.csv_run1.csv')\n",
    "run100 = pd.read_csv('simpleMap.csv_run100.csv')"
   ]
  },
  {
   "cell_type": "code",
   "execution_count": 33,
   "metadata": {},
   "outputs": [],
   "source": [
    "x_r1 = run1.step_time\n",
    "y_r1 = run1.total_wait_time\n",
    "x_r100 = run100.step_time\n",
    "y_r100 = run100.total_wait_time"
   ]
  },
  {
   "cell_type": "code",
   "execution_count": 34,
   "metadata": {},
   "outputs": [
    {
     "data": {
      "text/plain": [
       "Text(0, 0.5, 'Total Waiting time')"
      ]
     },
     "execution_count": 34,
     "metadata": {},
     "output_type": "execute_result"
    },
    {
     "data": {
      "image/png": "[encoded data removed]",
      "text/plain": [
       "<Figure size 432x288 with 1 Axes>"
      ]
     },
     "metadata": {
      "needs_background": "light"
     },
     "output_type": "display_data"
    }
   ],
   "source": [
    "plt.plot(x_r1, y_r1)\n",
    "plt.xlabel('Time step')\n",
    "plt.ylabel('Total Waiting time')"
   ]
  },
  {
   "cell_type": "code",
   "execution_count": 35,
   "metadata": {},
   "outputs": [
    {
     "data": {
      "text/plain": [
       "Text(0, 0.5, 'Total Waiting time')"
      ]
     },
     "execution_count": 35,
     "metadata": {},
     "output_type": "execute_result"
    },
    {
     "data": {
      "image/png": "[encoded data removed]",
      "text/plain": [
       "<Figure size 432x288 with 1 Axes>"
      ]
     },
     "metadata": {
      "needs_background": "light"
     },
     "output_type": "display_data"
    }
   ],
   "source": [
    "plt.plot(x_r100, y_r100)\n",
    "plt.xlabel('Time step')\n",
    "plt.ylabel('Total Waiting time')"
   ]
  },
  {
   "cell_type": "code",
   "execution_count": 41,
   "metadata": {},
   "outputs": [
    {
     "data": {
      "text/plain": [
       "2918700.0"
      ]
     },
     "execution_count": 41,
     "metadata": {},
     "output_type": "execute_result"
    }
   ],
   "source": [
    "sum(x_r1)"
   ]
  },
  {
   "cell_type": "code",
   "execution_count": 42,
   "metadata": {},
   "outputs": [
    {
     "data": {
      "text/plain": [
       "2918700.0"
      ]
     },
     "execution_count": 42,
     "metadata": {},
     "output_type": "execute_result"
    }
   ],
   "source": [
    "sum(x_r100)"
   ]
  },
  {
   "cell_type": "code",
   "execution_count": 49,
   "metadata": {},
   "outputs": [
    {
     "data": {
      "text/html": [
       "<div>\n",
       "<style scoped>\n",
       "    .dataframe tbody tr th:only-of-type {\n",
       "        vertical-align: middle;\n",
       "    }\n",
       "\n",
       "    .dataframe tbody tr th {\n",
       "        vertical-align: top;\n",
       "    }\n",
       "\n",
       "    .dataframe thead th {\n",
       "        text-align: right;\n",
       "    }\n",
       "</style>\n",
       "<table border=\"1\" class=\"dataframe\">\n",
       "  <thead>\n",
       "    <tr style=\"text-align: right;\">\n",
       "      <th></th>\n",
       "      <th>step_time</th>\n",
       "      <th>reward</th>\n",
       "      <th>total_stopped</th>\n",
       "      <th>total_wait_time</th>\n",
       "    </tr>\n",
       "  </thead>\n",
       "  <tbody>\n",
       "    <tr>\n",
       "      <th>19995</th>\n",
       "      <td>99980.0</td>\n",
       "      <td>0.0</td>\n",
       "      <td>0</td>\n",
       "      <td>0.0</td>\n",
       "    </tr>\n",
       "    <tr>\n",
       "      <th>19996</th>\n",
       "      <td>99985.0</td>\n",
       "      <td>0.0</td>\n",
       "      <td>0</td>\n",
       "      <td>0.0</td>\n",
       "    </tr>\n",
       "    <tr>\n",
       "      <th>19997</th>\n",
       "      <td>99990.0</td>\n",
       "      <td>0.0</td>\n",
       "      <td>0</td>\n",
       "      <td>0.0</td>\n",
       "    </tr>\n",
       "    <tr>\n",
       "      <th>19998</th>\n",
       "      <td>99995.0</td>\n",
       "      <td>0.0</td>\n",
       "      <td>0</td>\n",
       "      <td>0.0</td>\n",
       "    </tr>\n",
       "    <tr>\n",
       "      <th>19999</th>\n",
       "      <td>100000.0</td>\n",
       "      <td>0.0</td>\n",
       "      <td>0</td>\n",
       "      <td>0.0</td>\n",
       "    </tr>\n",
       "  </tbody>\n",
       "</table>\n",
       "</div>"
      ],
      "text/plain": [
       "       step_time  reward  total_stopped  total_wait_time\n",
       "19995    99980.0     0.0              0              0.0\n",
       "19996    99985.0     0.0              0              0.0\n",
       "19997    99990.0     0.0              0              0.0\n",
       "19998    99995.0     0.0              0              0.0\n",
       "19999   100000.0     0.0              0              0.0"
      ]
     },
     "execution_count": 49,
     "metadata": {},
     "output_type": "execute_result"
    }
   ],
   "source": [
    "run100k = pd.read_csv('simpleMap_ql/weib_100kcars.csv')\n",
    "run100k.tail()"
   ]
  },
  {
   "cell_type": "code",
   "execution_count": 50,
   "metadata": {},
   "outputs": [],
   "source": [
    "x_100k = run100k.step_time\n",
    "y_100k = run100k.total_wait_time"
   ]
  },
  {
   "cell_type": "code",
   "execution_count": 51,
   "metadata": {},
   "outputs": [
    {
     "data": {
      "text/plain": [
       "Text(0, 0.5, 'Total Waiting time')"
      ]
     },
     "execution_count": 51,
     "metadata": {},
     "output_type": "execute_result"
    },
    {
     "data": {
      "image/png": "[encoded data removed]",
      "text/plain": [
       "<Figure size 432x288 with 1 Axes>"
      ]
     },
     "metadata": {
      "needs_background": "light"
     },
     "output_type": "display_data"
    }
   ],
   "source": [
    "plt.plot(x_100k, y_100k)\n",
    "plt.xlabel('Time step')\n",
    "plt.ylabel('Total Waiting time')"
   ]
  },
  {
   "cell_type": "code",
   "execution_count": 53,
   "metadata": {},
   "outputs": [
    {
     "data": {
      "text/html": [
       "<div>\n",
       "<style scoped>\n",
       "    .dataframe tbody tr th:only-of-type {\n",
       "        vertical-align: middle;\n",
       "    }\n",
       "\n",
       "    .dataframe tbody tr th {\n",
       "        vertical-align: top;\n",
       "    }\n",
       "\n",
       "    .dataframe thead th {\n",
       "        text-align: right;\n",
       "    }\n",
       "</style>\n",
       "<table border=\"1\" class=\"dataframe\">\n",
       "  <thead>\n",
       "    <tr style=\"text-align: right;\">\n",
       "      <th></th>\n",
       "      <th>step_time</th>\n",
       "      <th>reward</th>\n",
       "      <th>total_stopped</th>\n",
       "      <th>total_wait_time</th>\n",
       "    </tr>\n",
       "  </thead>\n",
       "  <tbody>\n",
       "    <tr>\n",
       "      <th>19995</th>\n",
       "      <td>99980.0</td>\n",
       "      <td>0.0</td>\n",
       "      <td>0</td>\n",
       "      <td>0.0</td>\n",
       "    </tr>\n",
       "    <tr>\n",
       "      <th>19996</th>\n",
       "      <td>99985.0</td>\n",
       "      <td>0.0</td>\n",
       "      <td>0</td>\n",
       "      <td>0.0</td>\n",
       "    </tr>\n",
       "    <tr>\n",
       "      <th>19997</th>\n",
       "      <td>99990.0</td>\n",
       "      <td>0.0</td>\n",
       "      <td>0</td>\n",
       "      <td>0.0</td>\n",
       "    </tr>\n",
       "    <tr>\n",
       "      <th>19998</th>\n",
       "      <td>99995.0</td>\n",
       "      <td>0.0</td>\n",
       "      <td>0</td>\n",
       "      <td>0.0</td>\n",
       "    </tr>\n",
       "    <tr>\n",
       "      <th>19999</th>\n",
       "      <td>100000.0</td>\n",
       "      <td>0.0</td>\n",
       "      <td>0</td>\n",
       "      <td>0.0</td>\n",
       "    </tr>\n",
       "  </tbody>\n",
       "</table>\n",
       "</div>"
      ],
      "text/plain": [
       "       step_time  reward  total_stopped  total_wait_time\n",
       "19995    99980.0     0.0              0              0.0\n",
       "19996    99985.0     0.0              0              0.0\n",
       "19997    99990.0     0.0              0              0.0\n",
       "19998    99995.0     0.0              0              0.0\n",
       "19999   100000.0     0.0              0              0.0"
      ]
     },
     "execution_count": 53,
     "metadata": {},
     "output_type": "execute_result"
    }
   ],
   "source": [
    "run200k = pd.read_csv('simpleMap_ql/weib_200kcars.csv')\n",
    "run100k.tail()"
   ]
  },
  {
   "cell_type": "code",
   "execution_count": 54,
   "metadata": {},
   "outputs": [
    {
     "data": {
      "text/plain": [
       "[<matplotlib.lines.Line2D at 0x7fcda13fc940>]"
      ]
     },
     "execution_count": 54,
     "metadata": {},
     "output_type": "execute_result"
    },
    {
     "data": {
      "image/png": "[encoded data removed]",
      "text/plain": [
       "<Figure size 432x288 with 1 Axes>"
      ]
     },
     "metadata": {
      "needs_background": "light"
     },
     "output_type": "display_data"
    }
   ],
   "source": [
    "x_200k = run200k.step_time\n",
    "y_200k = run200k.total_wait_time\n",
    "plt.plot(x_200k, y_200k)"
   ]
  },
  {
   "cell_type": "code",
   "execution_count": 55,
   "metadata": {},
   "outputs": [
    {
     "data": {
      "text/plain": [
       "[<matplotlib.lines.Line2D at 0x7fcda0128970>]"
      ]
     },
     "execution_count": 55,
     "metadata": {},
     "output_type": "execute_result"
    },
    {
     "data": {
      "image/png": "[encoded data removed]",
      "text/plain": [
       "<Figure size 432x288 with 1 Axes>"
      ]
     },
     "metadata": {
      "needs_background": "light"
     },
     "output_type": "display_data"
    }
   ],
   "source": [
    "a2c = pd.read_csv('simpleMap_a2c/weib200k_run1.csv')\n",
    "x_a2c = a2c.step_time\n",
    "y_a2c = a2c.total_wait_time\n",
    "plt.plot(x_a2c, y_a2c)"
   ]
  },
  {
   "cell_type": "code",
   "execution_count": 64,
   "metadata": {},
   "outputs": [
    {
     "data": {
      "text/plain": [
       "Text(0, 0.5, 'Total Waiting Time')"
      ]
     },
     "execution_count": 64,
     "metadata": {},
     "output_type": "execute_result"
    },
    {
     "data": {
      "image/png": "[encoded data removed]",
      "text/plain": [
       "<Figure size 432x288 with 1 Axes>"
      ]
     },
     "metadata": {
      "needs_background": "light"
     },
     "output_type": "display_data"
    }
   ],
   "source": [
    "plt.plot(x_a2c, y_a2c, x_200k, y_200k)\n",
    "plt.xlabel('Time step')\n",
    "plt.ylabel('Total Waiting Time')"
   ]
  },
  {
   "cell_type": "code",
   "execution_count": 67,
   "metadata": {},
   "outputs": [
    {
     "data": {
      "text/plain": [
       "<matplotlib.legend.Legend at 0x7fcda01be8b0>"
      ]
     },
     "execution_count": 67,
     "metadata": {},
     "output_type": "execute_result"
    },
    {
     "data": {
      "image/png": "[encoded data removed]",
      "text/plain": [
       "<Figure size 432x288 with 1 Axes>"
      ]
     },
     "metadata": {
      "needs_background": "light"
     },
     "output_type": "display_data"
    }
   ],
   "source": [
    "fig, ax = plt.subplots()\n",
    "ax.plot(x_200k, y_200k , '-b', label='Eplison Greedy')\n",
    "ax.plot(x_a2c, y_a2c, '-r', label='A2C')\n",
    "plt.xlabel('Time step')\n",
    "plt.ylabel('Total Waiting Time')\n",
    "ax.legend()"
   ]
  },
  {
   "cell_type": "code",
   "execution_count": 59,
   "metadata": {},
   "outputs": [
    {
     "data": {
      "text/plain": [
       "[<matplotlib.lines.Line2D at 0x7fcda11518b0>,\n",
       " <matplotlib.lines.Line2D at 0x7fcda11517c0>]"
      ]
     },
     "execution_count": 59,
     "metadata": {},
     "output_type": "execute_result"
    },
    {
     "data": {
      "image/png": "[encoded data removed]",
      "text/plain": [
       "<Figure size 432x288 with 1 Axes>"
      ]
     },
     "metadata": {
      "needs_background": "light"
     },
     "output_type": "display_data"
    }
   ],
   "source": [
    "run200k_new = pd.read_csv('simpleMap_ql/weib_200kcars_run1.csv')\n",
    "x_200k_new = run200k_new.step_time\n",
    "y_200k_new = run200k_new.total_wait_time\n",
    "plt.plot(x_200k_new, y_200k_new, x_200k, y_200k)"
   ]
  },
  {
   "cell_type": "code",
   "execution_count": 60,
   "metadata": {},
   "outputs": [
    {
     "data": {
      "text/plain": [
       "[<matplotlib.lines.Line2D at 0x7fcda013c880>]"
      ]
     },
     "execution_count": 60,
     "metadata": {},
     "output_type": "execute_result"
    },
    {
     "data": {
      "image/png": "[encoded data removed]",
      "text/plain": [
       "<Figure size 432x288 with 1 Axes>"
      ]
     },
     "metadata": {
      "needs_background": "light"
     },
     "output_type": "display_data"
    }
   ],
   "source": [
    "dqn = pd.read_csv('simpleMap_dqn/weib200k_run1.csv')\n",
    "x_dqn = dqn.step_time\n",
    "y_dqn = dqn.total_wait_time\n",
    "plt.plot(x_dqn, y_dqn)"
   ]
  },
  {
   "cell_type": "code",
   "execution_count": 63,
   "metadata": {},
   "outputs": [
    {
     "data": {
      "text/plain": [
       "[<matplotlib.lines.Line2D at 0x7fcda029e910>,\n",
       " <matplotlib.lines.Line2D at 0x7fcda029e940>]"
      ]
     },
     "execution_count": 63,
     "metadata": {},
     "output_type": "execute_result"
    },
    {
     "data": {
      "image/png": "[encoded data removed]",
      "text/plain": [
       "<Figure size 432x288 with 1 Axes>"
      ]
     },
     "metadata": {
      "needs_background": "light"
     },
     "output_type": "display_data"
    }
   ],
   "source": [
    "plt.plot(x_dqn, y_dqn, x_200k, y_200k)"
   ]
  },
  {
   "cell_type": "code",
   "execution_count": 68,
   "metadata": {},
   "outputs": [],
   "source": [
    "a2c_2 = pd.read_csv('simpleMap_a2c/n_cpu=2_run1.csv')\n",
    "a2c_4 = pd.read_csv('simpleMap_a2c/n_cpu=4_run1.csv')\n",
    "x_a2c_n2 = a2c_2.step_time\n",
    "y_a2c_n2 = a2c_2.total_wait_time\n",
    "x_a2c_n4 = a2c_4.step_time\n",
    "y_a2c_n4 = a2c_4.total_wait_time"
   ]
  },
  {
   "cell_type": "code",
   "execution_count": 75,
   "metadata": {},
   "outputs": [
    {
     "data": {
      "text/plain": [
       "<matplotlib.legend.Legend at 0x7fcd8570efd0>"
      ]
     },
     "execution_count": 75,
     "metadata": {},
     "output_type": "execute_result"
    },
    {
     "data": {
      "image/png": "[encoded data removed]",
      "text/plain": [
       "<Figure size 432x288 with 1 Axes>"
      ]
     },
     "metadata": {
      "needs_background": "light"
     },
     "output_type": "display_data"
    }
   ],
   "source": [
    "fig, ax = plt.subplots()\n",
    "#ax.plot(x_a2c, y_a2c, '-b', label = 'n_cpu = 1')\n",
    "ax.plot(x_a2c_n2, y_a2c_n2, '-b', label = 'n_cpu = 2')\n",
    "ax.plot(x_a2c_n4, y_a2c_n4, '-r', label = 'n_cpu = 4')\n",
    "ax.legend()"
   ]
  },
  {
   "cell_type": "code",
   "execution_count": 77,
   "metadata": {},
   "outputs": [
    {
     "ename": "ValueError",
     "evalue": "shape mismatch: objects cannot be broadcast to a single shape",
     "output_type": "error",
     "traceback": [
      "\u001b[0;31m---------------------------------------------------------------------------\u001b[0m",
      "\u001b[0;31mValueError\u001b[0m                                Traceback (most recent call last)",
      "\u001b[0;32m<ipython-input-77-9c556adbc128>\u001b[0m in \u001b[0;36m<module>\u001b[0;34m\u001b[0m\n\u001b[0;32m----> 1\u001b[0;31m \u001b[0mplt\u001b[0m\u001b[0;34m.\u001b[0m\u001b[0mbar\u001b[0m\u001b[0;34m(\u001b[0m\u001b[0my_a2c\u001b[0m\u001b[0;34m,\u001b[0m \u001b[0my_a2c_n2\u001b[0m\u001b[0;34m,\u001b[0m \u001b[0my_a2c_n4\u001b[0m\u001b[0;34m)\u001b[0m\u001b[0;34m\u001b[0m\u001b[0;34m\u001b[0m\u001b[0m\n\u001b[0m",
      "\u001b[0;32m~/opt/anaconda3/lib/python3.8/site-packages/matplotlib/pyplot.py\u001b[0m in \u001b[0;36mbar\u001b[0;34m(x, height, width, bottom, align, data, **kwargs)\u001b[0m\n\u001b[1;32m   2405\u001b[0m         \u001b[0mx\u001b[0m\u001b[0;34m,\u001b[0m \u001b[0mheight\u001b[0m\u001b[0;34m,\u001b[0m \u001b[0mwidth\u001b[0m\u001b[0;34m=\u001b[0m\u001b[0;36m0.8\u001b[0m\u001b[0;34m,\u001b[0m \u001b[0mbottom\u001b[0m\u001b[0;34m=\u001b[0m\u001b[0;32mNone\u001b[0m\u001b[0;34m,\u001b[0m \u001b[0;34m*\u001b[0m\u001b[0;34m,\u001b[0m \u001b[0malign\u001b[0m\u001b[0;34m=\u001b[0m\u001b[0;34m'center'\u001b[0m\u001b[0;34m,\u001b[0m\u001b[0;34m\u001b[0m\u001b[0;34m\u001b[0m\u001b[0m\n\u001b[1;32m   2406\u001b[0m         data=None, **kwargs):\n\u001b[0;32m-> 2407\u001b[0;31m     return gca().bar(\n\u001b[0m\u001b[1;32m   2408\u001b[0m         \u001b[0mx\u001b[0m\u001b[0;34m,\u001b[0m \u001b[0mheight\u001b[0m\u001b[0;34m,\u001b[0m \u001b[0mwidth\u001b[0m\u001b[0;34m=\u001b[0m\u001b[0mwidth\u001b[0m\u001b[0;34m,\u001b[0m \u001b[0mbottom\u001b[0m\u001b[0;34m=\u001b[0m\u001b[0mbottom\u001b[0m\u001b[0;34m,\u001b[0m \u001b[0malign\u001b[0m\u001b[0;34m=\u001b[0m\u001b[0malign\u001b[0m\u001b[0;34m,\u001b[0m\u001b[0;34m\u001b[0m\u001b[0;34m\u001b[0m\u001b[0m\n\u001b[1;32m   2409\u001b[0m         **({\"data\": data} if data is not None else {}), **kwargs)\n",
      "\u001b[0;32m~/opt/anaconda3/lib/python3.8/site-packages/matplotlib/__init__.py\u001b[0m in \u001b[0;36minner\u001b[0;34m(ax, data, *args, **kwargs)\u001b[0m\n\u001b[1;32m   1563\u001b[0m     \u001b[0;32mdef\u001b[0m \u001b[0minner\u001b[0m\u001b[0;34m(\u001b[0m\u001b[0max\u001b[0m\u001b[0;34m,\u001b[0m \u001b[0;34m*\u001b[0m\u001b[0margs\u001b[0m\u001b[0;34m,\u001b[0m \u001b[0mdata\u001b[0m\u001b[0;34m=\u001b[0m\u001b[0;32mNone\u001b[0m\u001b[0;34m,\u001b[0m \u001b[0;34m**\u001b[0m\u001b[0mkwargs\u001b[0m\u001b[0;34m)\u001b[0m\u001b[0;34m:\u001b[0m\u001b[0;34m\u001b[0m\u001b[0;34m\u001b[0m\u001b[0m\n\u001b[1;32m   1564\u001b[0m         \u001b[0;32mif\u001b[0m \u001b[0mdata\u001b[0m \u001b[0;32mis\u001b[0m \u001b[0;32mNone\u001b[0m\u001b[0;34m:\u001b[0m\u001b[0;34m\u001b[0m\u001b[0;34m\u001b[0m\u001b[0m\n\u001b[0;32m-> 1565\u001b[0;31m             \u001b[0;32mreturn\u001b[0m \u001b[0mfunc\u001b[0m\u001b[0;34m(\u001b[0m\u001b[0max\u001b[0m\u001b[0;34m,\u001b[0m \u001b[0;34m*\u001b[0m\u001b[0mmap\u001b[0m\u001b[0;34m(\u001b[0m\u001b[0msanitize_sequence\u001b[0m\u001b[0;34m,\u001b[0m \u001b[0margs\u001b[0m\u001b[0;34m)\u001b[0m\u001b[0;34m,\u001b[0m \u001b[0;34m**\u001b[0m\u001b[0mkwargs\u001b[0m\u001b[0;34m)\u001b[0m\u001b[0;34m\u001b[0m\u001b[0;34m\u001b[0m\u001b[0m\n\u001b[0m\u001b[1;32m   1566\u001b[0m \u001b[0;34m\u001b[0m\u001b[0m\n\u001b[1;32m   1567\u001b[0m         \u001b[0mbound\u001b[0m \u001b[0;34m=\u001b[0m \u001b[0mnew_sig\u001b[0m\u001b[0;34m.\u001b[0m\u001b[0mbind\u001b[0m\u001b[0;34m(\u001b[0m\u001b[0max\u001b[0m\u001b[0;34m,\u001b[0m \u001b[0;34m*\u001b[0m\u001b[0margs\u001b[0m\u001b[0;34m,\u001b[0m \u001b[0;34m**\u001b[0m\u001b[0mkwargs\u001b[0m\u001b[0;34m)\u001b[0m\u001b[0;34m\u001b[0m\u001b[0;34m\u001b[0m\u001b[0m\n",
      "\u001b[0;32m~/opt/anaconda3/lib/python3.8/site-packages/matplotlib/axes/_axes.py\u001b[0m in \u001b[0;36mbar\u001b[0;34m(self, x, height, width, bottom, align, **kwargs)\u001b[0m\n\u001b[1;32m   2338\u001b[0m                 \u001b[0myerr\u001b[0m \u001b[0;34m=\u001b[0m \u001b[0mself\u001b[0m\u001b[0;34m.\u001b[0m\u001b[0m_convert_dx\u001b[0m\u001b[0;34m(\u001b[0m\u001b[0myerr\u001b[0m\u001b[0;34m,\u001b[0m \u001b[0my0\u001b[0m\u001b[0;34m,\u001b[0m \u001b[0my\u001b[0m\u001b[0;34m,\u001b[0m \u001b[0mself\u001b[0m\u001b[0;34m.\u001b[0m\u001b[0mconvert_yunits\u001b[0m\u001b[0;34m)\u001b[0m\u001b[0;34m\u001b[0m\u001b[0;34m\u001b[0m\u001b[0m\n\u001b[1;32m   2339\u001b[0m \u001b[0;34m\u001b[0m\u001b[0m\n\u001b[0;32m-> 2340\u001b[0;31m         x, height, width, y, linewidth = np.broadcast_arrays(\n\u001b[0m\u001b[1;32m   2341\u001b[0m             \u001b[0;31m# Make args iterable too.\u001b[0m\u001b[0;34m\u001b[0m\u001b[0;34m\u001b[0m\u001b[0;34m\u001b[0m\u001b[0m\n\u001b[1;32m   2342\u001b[0m             np.atleast_1d(x), height, width, y, linewidth)\n",
      "\u001b[0;32m<__array_function__ internals>\u001b[0m in \u001b[0;36mbroadcast_arrays\u001b[0;34m(*args, **kwargs)\u001b[0m\n",
      "\u001b[0;32m~/opt/anaconda3/lib/python3.8/site-packages/numpy/lib/stride_tricks.py\u001b[0m in \u001b[0;36mbroadcast_arrays\u001b[0;34m(*args, **kwargs)\u001b[0m\n\u001b[1;32m    262\u001b[0m     \u001b[0margs\u001b[0m \u001b[0;34m=\u001b[0m \u001b[0;34m[\u001b[0m\u001b[0mnp\u001b[0m\u001b[0;34m.\u001b[0m\u001b[0marray\u001b[0m\u001b[0;34m(\u001b[0m\u001b[0m_m\u001b[0m\u001b[0;34m,\u001b[0m \u001b[0mcopy\u001b[0m\u001b[0;34m=\u001b[0m\u001b[0;32mFalse\u001b[0m\u001b[0;34m,\u001b[0m \u001b[0msubok\u001b[0m\u001b[0;34m=\u001b[0m\u001b[0msubok\u001b[0m\u001b[0;34m)\u001b[0m \u001b[0;32mfor\u001b[0m \u001b[0m_m\u001b[0m \u001b[0;32min\u001b[0m \u001b[0margs\u001b[0m\u001b[0;34m]\u001b[0m\u001b[0;34m\u001b[0m\u001b[0;34m\u001b[0m\u001b[0m\n\u001b[1;32m    263\u001b[0m \u001b[0;34m\u001b[0m\u001b[0m\n\u001b[0;32m--> 264\u001b[0;31m     \u001b[0mshape\u001b[0m \u001b[0;34m=\u001b[0m \u001b[0m_broadcast_shape\u001b[0m\u001b[0;34m(\u001b[0m\u001b[0;34m*\u001b[0m\u001b[0margs\u001b[0m\u001b[0;34m)\u001b[0m\u001b[0;34m\u001b[0m\u001b[0;34m\u001b[0m\u001b[0m\n\u001b[0m\u001b[1;32m    265\u001b[0m \u001b[0;34m\u001b[0m\u001b[0m\n\u001b[1;32m    266\u001b[0m     \u001b[0;32mif\u001b[0m \u001b[0mall\u001b[0m\u001b[0;34m(\u001b[0m\u001b[0marray\u001b[0m\u001b[0;34m.\u001b[0m\u001b[0mshape\u001b[0m \u001b[0;34m==\u001b[0m \u001b[0mshape\u001b[0m \u001b[0;32mfor\u001b[0m \u001b[0marray\u001b[0m \u001b[0;32min\u001b[0m \u001b[0margs\u001b[0m\u001b[0;34m)\u001b[0m\u001b[0;34m:\u001b[0m\u001b[0;34m\u001b[0m\u001b[0;34m\u001b[0m\u001b[0m\n",
      "\u001b[0;32m~/opt/anaconda3/lib/python3.8/site-packages/numpy/lib/stride_tricks.py\u001b[0m in \u001b[0;36m_broadcast_shape\u001b[0;34m(*args)\u001b[0m\n\u001b[1;32m    189\u001b[0m     \u001b[0;31m# use the old-iterator because np.nditer does not handle size 0 arrays\u001b[0m\u001b[0;34m\u001b[0m\u001b[0;34m\u001b[0m\u001b[0;34m\u001b[0m\u001b[0m\n\u001b[1;32m    190\u001b[0m     \u001b[0;31m# consistently\u001b[0m\u001b[0;34m\u001b[0m\u001b[0;34m\u001b[0m\u001b[0;34m\u001b[0m\u001b[0m\n\u001b[0;32m--> 191\u001b[0;31m     \u001b[0mb\u001b[0m \u001b[0;34m=\u001b[0m \u001b[0mnp\u001b[0m\u001b[0;34m.\u001b[0m\u001b[0mbroadcast\u001b[0m\u001b[0;34m(\u001b[0m\u001b[0;34m*\u001b[0m\u001b[0margs\u001b[0m\u001b[0;34m[\u001b[0m\u001b[0;34m:\u001b[0m\u001b[0;36m32\u001b[0m\u001b[0;34m]\u001b[0m\u001b[0;34m)\u001b[0m\u001b[0;34m\u001b[0m\u001b[0;34m\u001b[0m\u001b[0m\n\u001b[0m\u001b[1;32m    192\u001b[0m     \u001b[0;31m# unfortunately, it cannot handle 32 or more arguments directly\u001b[0m\u001b[0;34m\u001b[0m\u001b[0;34m\u001b[0m\u001b[0;34m\u001b[0m\u001b[0m\n\u001b[1;32m    193\u001b[0m     \u001b[0;32mfor\u001b[0m \u001b[0mpos\u001b[0m \u001b[0;32min\u001b[0m \u001b[0mrange\u001b[0m\u001b[0;34m(\u001b[0m\u001b[0;36m32\u001b[0m\u001b[0;34m,\u001b[0m \u001b[0mlen\u001b[0m\u001b[0;34m(\u001b[0m\u001b[0margs\u001b[0m\u001b[0;34m)\u001b[0m\u001b[0;34m,\u001b[0m \u001b[0;36m31\u001b[0m\u001b[0;34m)\u001b[0m\u001b[0;34m:\u001b[0m\u001b[0;34m\u001b[0m\u001b[0;34m\u001b[0m\u001b[0m\n",
      "\u001b[0;31mValueError\u001b[0m: shape mismatch: objects cannot be broadcast to a single shape"
     ]
    },
    {
     "data": {
      "image/png": "[encoded data removed]",
      "text/plain": [
       "<Figure size 432x288 with 1 Axes>"
      ]
     },
     "metadata": {
      "needs_background": "light"
     },
     "output_type": "display_data"
    }
   ],
   "source": [
    "plt.bar(y_a2c, y_a2c_n2, y_a2c_n4)"
   ]
  },
  {
   "cell_type": "code",
   "execution_count": null,
   "metadata": {},
   "outputs": [],
   "source": []
  }
 ],
 "metadata": {
  "kernelspec": {
   "display_name": "Python 3",
   "language": "python",
   "name": "python3"
  },
  "language_info": {
   "codemirror_mode": {
    "name": "ipython",
    "version": 3
   },
   "file_extension": ".py",
   "mimetype": "text/x-python",
   "name": "python",
   "nbconvert_exporter": "python",
   "pygments_lexer": "ipython3",
   "version": "3.8.3"
  }
 },
 "nbformat": 4,
 "nbformat_minor": 4
}
